{
 "cells": [
  {
   "cell_type": "markdown",
   "metadata": {},
   "source": [
    "# Abundance Matching with `hmf` python package"
   ]
  },
  {
   "cell_type": "code",
   "execution_count": 1,
   "metadata": {
    "collapsed": true
   },
   "outputs": [],
   "source": [
    "%matplotlib inline"
   ]
  },
  {
   "cell_type": "code",
   "execution_count": 2,
   "metadata": {
    "collapsed": true
   },
   "outputs": [],
   "source": [
    "from halotools.sim_manager import CachedHaloCatalog\n",
    "halocat = CachedHaloCatalog(simname='bolplanck', redshift=0.5)\n",
    "\n",
    "hostmask = halocat.halo_table['halo_upid'] == -1\n",
    "hosts = halocat.halo_table[hostmask]\n",
    "hosts.sort('halo_mvir')"
   ]
  },
  {
   "cell_type": "code",
   "execution_count": 3,
   "metadata": {
    "collapsed": true
   },
   "outputs": [],
   "source": [
    "from hmf.hmf import MassFunction\n",
    "mf = MassFunction(Mmin=10, Mmax=16, z=halocat.redshift)"
   ]
  },
  {
   "cell_type": "code",
   "execution_count": 4,
   "metadata": {},
   "outputs": [],
   "source": [
    "from scipy.integrate import quad\n",
    "\n",
    "def interpolated_dndlog10M(log10m):\n",
    "    return 10**np.interp(log10m, np.log10(mf.m), np.log10(mf.dndlog10m))\n",
    "\n",
    "def hmf_log10_cumnd(log10_mass):\n",
    "    return np.log10(quad(interpolated_dndlog10M, log10_mass, np.inf)[0])"
   ]
  },
  {
   "cell_type": "markdown",
   "metadata": {},
   "source": [
    "Compare cumulative number density in simulation to `hmf` package"
   ]
  },
  {
   "cell_type": "code",
   "execution_count": 5,
   "metadata": {},
   "outputs": [
    {
     "name": "stdout",
     "output_type": "stream",
     "text": [
      "At log10(Mvir) = 14.08, log10(N(>M)) = (-5.19, -5.09)\n",
      "At log10(Mvir) = 13.74, log10(N(>M)) = (-4.49, -4.46)\n",
      "At log10(Mvir) = 13.03, log10(N(>M)) = (-3.49, -3.47)\n",
      "At log10(Mvir) = 12.10, log10(N(>M)) = (-2.49, -2.47)\n"
     ]
    }
   ],
   "source": [
    "comoving_volume = np.prod(halocat.Lbox)\n",
    "\n",
    "for n in (100, 500, 5000, 50000):\n",
    "    log10_cumnd_sim = np.log10(n/comoving_volume)\n",
    "    log10_mass = np.log10(hosts[-n]['halo_mvir'])\n",
    "    log10_cumnd_hmf = hmf_log10_cumnd(log10_mass)\n",
    "    print(\"At log10(Mvir) = {0:.2f}, log10(N(>M)) = ({1:.2f}, {2:.2f})\".format(log10_mass, log10_cumnd_sim, log10_cumnd_hmf))"
   ]
  },
  {
   "cell_type": "code",
   "execution_count": null,
   "metadata": {
    "collapsed": true
   },
   "outputs": [],
   "source": []
  }
 ],
 "metadata": {
  "kernelspec": {
   "display_name": "Python [conda root]",
   "language": "python",
   "name": "conda-root-py"
  },
  "language_info": {
   "codemirror_mode": {
    "name": "ipython",
    "version": 2
   },
   "file_extension": ".py",
   "mimetype": "text/x-python",
   "name": "python",
   "nbconvert_exporter": "python",
   "pygments_lexer": "ipython2",
   "version": "2.7.13"
  }
 },
 "nbformat": 4,
 "nbformat_minor": 2
}
